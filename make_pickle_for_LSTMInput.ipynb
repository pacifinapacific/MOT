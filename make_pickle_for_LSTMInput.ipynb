{
 "cells": [
  {
   "cell_type": "code",
   "execution_count": null,
   "metadata": {},
   "outputs": [],
   "source": [
    "import cv2\n",
    "import pandas as pd"
   ]
  },
  {
   "cell_type": "code",
   "execution_count": 2,
   "metadata": {},
   "outputs": [],
   "source": [
    "dict_name=\"MOT16/train/\"\n",
    "number_train=[\"MOT16-02\",\"MOT16-04\",\"MOT16-05\",\"MOT16-09\",\"MOT16-10\",\"MOT16-11\",\"MOT16-13\"]\n",
    "gt_file=\"/gt/gt.txt\"\n",
    "dt_filr=\"/det/det.txt\"\n",
    "\n"
   ]
  },
  {
   "cell_type": "code",
   "execution_count": 3,
   "metadata": {},
   "outputs": [
    {
     "name": "stdout",
     "output_type": "stream",
     "text": [
      "id_ok\n",
      "MOT16-02\n",
      "id_ok\n",
      "MOT16-04\n",
      "id_ok\n",
      "MOT16-05\n",
      "id_ok\n",
      "MOT16-09\n",
      "id_ok\n",
      "MOT16-10\n",
      "id_ok\n",
      "MOT16-11\n",
      "id_ok\n",
      "MOT16-13\n"
     ]
    }
   ],
   "source": [
    "dict_all={}\n",
    "\n",
    "for number in number_train: #Folder分回す\n",
    "    path=dict_name+number+gt_file #正解ラベルPath\n",
    "    with open(path) as f: \n",
    "        l=[s.strip() for s in f.readlines()]\n",
    "    data=[]\n",
    "    for line in l:\n",
    "        line=line.split(\",\")\n",
    "        a=[float(n) for n in line]\n",
    "        data.append(a)\n",
    "    df=pd.DataFrame(data,columns=[\"frame\",\"Identity\",\"Bbox left\",\"Bbox top\",\"Bbox width\",#gt.txtをdataframeに\n",
    "                             \"Bbox height\",\"confidence score\",\"Class\",\"Visibility\"])\n",
    "    df=df[(df[\"confidence score\"]>0.9)] #& (df[\"Visibility\"] >0.25)] #test\n",
    "    df_frame_sort=df.sort_values(\"Identity\") #Identityでソート\n",
    "    id_max,id_min=int(df_frame_sort.max()[1]),int(df_frame_sort.min()[1]) #idのmax,minを確認\n",
    "    \n",
    "    print(\"id_ok\")\n",
    "    \n",
    "    dict={} #正解ラベルフレームのdict\n",
    "    for j in range(id_min,id_max+1):#id分回す\n",
    "        df_frame=df_frame_sort[df_frame_sort[\"Identity\"]==float(j)] #idごとに抜き出し\n",
    "        df_frame_s=df_frame.sort_values(\"frame\") #frame順にソート\n",
    "        f_list=[] #idごとのフレームリスト 6連続検出のみを入れる\n",
    "        f_list_hoge=[]  #6連続検出確認のための仮リスト\n",
    "        start_i=0\n",
    "        for i,(index,row) in enumerate(df_frame_s.iterrows()): #1行づつ抜き出し\n",
    "            start_i+=1\n",
    "            if row[0]==float(start_i):\n",
    "                f_list_hoge.append(row[0]) \n",
    "            elif len(f_list_hoge)>=6:\n",
    "                f_list.append(f_list_hoge)\n",
    "                f_list_hoge=[]\n",
    "                f_list_hoge.append(row[0])\n",
    "                start_i=row[0]\n",
    "            else:\n",
    "                f_list_hoge=[]\n",
    "                f_list_hoge.append(row[0])\n",
    "                start_i=row[0]\n",
    "        \n",
    "        if len(f_list_hoge)>=6:\n",
    "            f_list.append(f_list_hoge)\n",
    "        if len(f_list)>1: #1回途切れて復活するものがあるか確認\n",
    "            print(\"alert\")\n",
    "        if len(f_list)!=0:#f_listをdictにidをkeyとして保存\n",
    "            dict[str(j)]=f_list\n",
    "\n",
    "    dict_all[number]=dict\n",
    "    #BBox_dict_all[number]=BBox_dict\n",
    "    print(number)\n"
   ]
  },
  {
   "cell_type": "code",
   "execution_count": 4,
   "metadata": {},
   "outputs": [
    {
     "name": "stdout",
     "output_type": "stream",
     "text": [
      "MOT16-02\n",
      "MOT16-04\n",
      "MOT16-05\n",
      "MOT16-09\n",
      "MOT16-10\n",
      "MOT16-11\n",
      "MOT16-13\n"
     ]
    }
   ],
   "source": [
    "BBox_dict_all={}\n",
    "for number in number_train:\n",
    "    path=dict_name+number+gt_file #正解ラベルPath\n",
    "    with open(path) as f: \n",
    "        l=[s.strip() for s in f.readlines()]\n",
    "    data=[]\n",
    "    for line in l:\n",
    "        line=line.split(\",\")\n",
    "        a=[float(n) for n in line]\n",
    "        data.append(a)\n",
    "    df=pd.DataFrame(data,columns=[\"frame\",\"Identity\",\"Bbox left\",\"Bbox top\",\"Bbox width\",#gt.txtをdataframeに\n",
    "                             \"Bbox height\",\"confidence score\",\"Class\",\"Visibility\"])\n",
    "    df_frame_sort=df.sort_values(\"Identity\") #Identityでソート\n",
    "    \n",
    "    BBox_dict={} #Bounding_Boxのdictを別に用意\n",
    "    dict=dict_all[number]\n",
    "    for k in dict: #key順番に取り出し\n",
    "        dict_hoge={}\n",
    "        for frame in dict[k][0]:\n",
    "            df_k=df_frame_sort[df_frame_sort[\"Identity\"]==float(k)]\n",
    "            df_f=df_k[df_k[\"frame\"]==frame]\n",
    "            \n",
    "            dict_hoge[frame]=[int(df_f[\"Bbox left\"].values),int(df_f[\"Bbox top\"].values),int(df_f[\"Bbox width\"].values),int(df_f[\"Bbox height\"].values)]\n",
    "        BBox_dict[k]=dict_hoge #idをkey、その下にframeをkeyとした２次元dictを作成\n",
    "    #dict_all[number]=dict\n",
    "    BBox_dict_all[number]=BBox_dict\n",
    "    print(number)\n",
    "    \n",
    "    \n",
    "    "
   ]
  },
  {
   "cell_type": "code",
   "execution_count": 5,
   "metadata": {},
   "outputs": [],
   "source": [
    "import pickle\n",
    "with open('gt_id_conf.pickle', mode='wb') as fo:\n",
    "    pickle.dump(dict_all, fo)"
   ]
  },
  {
   "cell_type": "code",
   "execution_count": 6,
   "metadata": {},
   "outputs": [],
   "source": [
    "with open('gt_bbox_conf.pickle', mode='wb') as fo:\n",
    "    pickle.dump(BBox_dict_all, fo)"
   ]
  },
  {
   "cell_type": "code",
   "execution_count": null,
   "metadata": {},
   "outputs": [],
   "source": []
  },
  {
   "cell_type": "code",
   "execution_count": null,
   "metadata": {},
   "outputs": [],
   "source": []
  },
  {
   "cell_type": "code",
   "execution_count": null,
   "metadata": {},
   "outputs": [],
   "source": []
  },
  {
   "cell_type": "code",
   "execution_count": null,
   "metadata": {},
   "outputs": [],
   "source": []
  },
  {
   "cell_type": "markdown",
   "metadata": {},
   "source": [
    "# ここまで"
   ]
  },
  {
   "cell_type": "code",
   "execution_count": null,
   "metadata": {},
   "outputs": [],
   "source": [
    "data=[]\n",
    "for line in l:\n",
    "    line=line.split(\",\")\n",
    "    a=[float(n) for n in line]\n",
    "    data.append(a)"
   ]
  },
  {
   "cell_type": "code",
   "execution_count": null,
   "metadata": {},
   "outputs": [],
   "source": [
    "df=pd.DataFrame(data,columns=[\"frame\",\"Identity\",\"Bbox left\",\"Bbox top\",\"Bbox width\",\n",
    "                             \"Bbox height\",\"confidence score\",\"Class\",\"Visibility\"])\n"
   ]
  },
  {
   "cell_type": "code",
   "execution_count": null,
   "metadata": {},
   "outputs": [],
   "source": [
    "df_frame_sort=df.sort_values(\"Identity\")\n",
    "d=df_frame_sort[df_frame_sort[\"Identity\"]==145.0]\n",
    "d.sort_values(\"frame\")"
   ]
  },
  {
   "cell_type": "code",
   "execution_count": null,
   "metadata": {},
   "outputs": [],
   "source": [
    "id_max,id_min=int(df_frame_sort.max()[1]),int(df_frame_sort.min()[1])"
   ]
  },
  {
   "cell_type": "code",
   "execution_count": null,
   "metadata": {},
   "outputs": [],
   "source": [
    "dict={}\n",
    "for j in range(id_min,id_max+1):\n",
    "    df_frame=df_frame_sort[df_frame_sort[\"Identity\"]==float(j)]\n",
    "    df_frame_s=df_frame.sort_values(\"frame\")\n",
    "    f_list=[]\n",
    "    f_list_hoge=[] \n",
    "    start_i=0\n",
    "    for i,(index,row) in enumerate(df_frame_s.iterrows()):\n",
    "        if j==10:\n",
    "            print(f_list_hoge)\n",
    "        start_i+=1\n",
    "        if row[0]==float(start_i):\n",
    "            f_list_hoge.append(row[0])\n",
    "        elif len(f_list_hoge)>=6:\n",
    "            f_list.append(f_list_hoge)\n",
    "            f_list_hoge=[]\n",
    "            f_list_hoge.append(row[0])\n",
    "            start_i=row[0]\n",
    "        else:\n",
    "            f_list_hoge=[]\n",
    "            f_list_hoge.append(row[0])\n",
    "            start_i=row[0]\n",
    "        \n",
    "    if len(f_list_hoge)>=6:\n",
    "        f_list.append(f_list_hoge)\n",
    "    if len(f_list)>1:\n",
    "        print(\"alert\")\n",
    "    if len(f_list)!=0:\n",
    "        dict[str(j)]=f_list\n",
    "        \n",
    "        \n"
   ]
  },
  {
   "cell_type": "code",
   "execution_count": null,
   "metadata": {},
   "outputs": [],
   "source": [
    "dict[\"1\"][0]"
   ]
  },
  {
   "cell_type": "code",
   "execution_count": null,
   "metadata": {
    "scrolled": false
   },
   "outputs": [],
   "source": [
    "BBox_dict={}\n",
    "dict_hoge={}\n",
    "for k in dict: #key順番に取り出し\n",
    "    for frame in dict[k][0]:\n",
    "        df_k=df_frame_sort[df_frame_sort[\"Identity\"]==float(k)]\n",
    "        df_f=df_k[df_k[\"frame\"]==frame]\n",
    "        dict_hoge[frame]=[int(df_f[\"Bbox left\"].values),int(df_f[\"Bbox top\"].values),int(df_f[\"Bbox width\"].values),int(df_f[\"Bbox height\"].values)]\n",
    "    BBox_dict[k]=dict_hoge\n",
    "    \n",
    "    "
   ]
  },
  {
   "cell_type": "code",
   "execution_count": null,
   "metadata": {},
   "outputs": [],
   "source": [
    "df_k=df_frame_sort[df_frame_sort[\"Identity\"]==float(1)]\n",
    "df_f=df_k[df_k[\"frame\"]==1]\n",
    "df_f\n",
    "#df_f[\"Bbox left\"].values"
   ]
  },
  {
   "cell_type": "code",
   "execution_count": null,
   "metadata": {},
   "outputs": [],
   "source": [
    "BBox_dict[\"1\"][1][3]"
   ]
  },
  {
   "cell_type": "code",
   "execution_count": null,
   "metadata": {},
   "outputs": [],
   "source": [
    "df_frame_s=df_frame.sort_values(\"frame\")\n",
    "df_frame_s"
   ]
  },
  {
   "cell_type": "code",
   "execution_count": null,
   "metadata": {},
   "outputs": [],
   "source": [
    "f_list=[]\n",
    "f_list_hoge=[] #6以上の連番\n",
    "start_i=0\n",
    "for index,row in df_frame_s.iterrows():\n",
    "    start_i+=1\n",
    "    if row[0]==float(start_i):\n",
    "        f_list_hoge.append(row[0])\n",
    "    elif len(f_list_hoge)>=6:\n",
    "        f_list.append(f_list_hoge)\n",
    "        f_list_hoge\n",
    "        start_i=row[0]\n",
    "    else:\n",
    "        f_list_hoge=[]\n",
    "        start_i=row[0]\n",
    "        \n",
    "if len(f_list_hoge)>=6:\n",
    "    f_list.append(f_list_hoge)\n",
    "    \n",
    "            "
   ]
  },
  {
   "cell_type": "code",
   "execution_count": null,
   "metadata": {},
   "outputs": [],
   "source": [
    "f_list"
   ]
  },
  {
   "cell_type": "code",
   "execution_count": null,
   "metadata": {},
   "outputs": [],
   "source": [
    "print(id_max)"
   ]
  },
  {
   "cell_type": "code",
   "execution_count": null,
   "metadata": {},
   "outputs": [],
   "source": [
    "str(dict[str(f)][0][1]"
   ]
  },
  {
   "cell_type": "code",
   "execution_count": null,
   "metadata": {},
   "outputs": [],
   "source": [
    "B={}\n",
    "B[\"1\"][\"3\"]=1"
   ]
  },
  {
   "cell_type": "code",
   "execution_count": null,
   "metadata": {},
   "outputs": [],
   "source": [
    "B[1]"
   ]
  },
  {
   "cell_type": "code",
   "execution_count": null,
   "metadata": {},
   "outputs": [],
   "source": []
  }
 ],
 "metadata": {
  "kernelspec": {
   "display_name": "Python 3",
   "language": "python",
   "name": "python3"
  },
  "language_info": {
   "codemirror_mode": {
    "name": "ipython",
    "version": 3
   },
   "file_extension": ".py",
   "mimetype": "text/x-python",
   "name": "python",
   "nbconvert_exporter": "python",
   "pygments_lexer": "ipython3",
   "version": "3.7.3"
  }
 },
 "nbformat": 4,
 "nbformat_minor": 2
}
